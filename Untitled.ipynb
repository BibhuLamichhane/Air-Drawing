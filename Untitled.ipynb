{
 "cells": [
  {
   "cell_type": "code",
   "execution_count": 1,
   "metadata": {},
   "outputs": [],
   "source": [
    "import numpy as np\n",
    "import pandas as pd\n",
    "import matplotlib.pyplot as plt\n",
    "from sklearn.model_selection import train_test_split\n",
    "import requests\n",
    "import urllib\n",
    "import os\n",
    "from PIL import Image\n",
    "import cv2\n",
    "\n",
    "from keras_retinanet import models\n",
    "from keras_retinanet.utils.image import preprocess_image, resize_image\n",
    "from keras_retinanet.utils.visualization import draw_box, draw_caption\n",
    "from keras_retinanet.utils.colors import label_color"
   ]
  },
  {
   "cell_type": "code",
   "execution_count": 2,
   "metadata": {},
   "outputs": [],
   "source": [
    "directory = 'dataset/train/'\n",
    "train_x_full = np.load(directory + 'train_x.npy')\n",
    "train_y_prob_full = np.load(directory + 'train_y_prob.npy')\n",
    "train_y_keys_full = np.load(directory + 'train_y_keys.npy')"
   ]
  },
  {
   "cell_type": "code",
   "execution_count": 3,
   "metadata": {},
   "outputs": [],
   "source": [
    "converted_data_train = {\n",
    "    'image': [],\n",
    "    'x_min': [],\n",
    "    'y_min': [],\n",
    "    'x_max': [],\n",
    "    'y_max': [],\n",
    "    'class_name': [],\n",
    "}"
   ]
  },
  {
   "cell_type": "code",
   "execution_count": 4,
   "metadata": {},
   "outputs": [],
   "source": [
    "if not os.path.exists('fingertips'):\n",
    "  os.mkdir('fingertips')"
   ]
  },
  {
   "cell_type": "code",
   "execution_count": 5,
   "metadata": {},
   "outputs": [],
   "source": [
    "for i in range(25090):    \n",
    "    c = 0\n",
    "    \n",
    "    for j in train_y_prob_full[i]:\n",
    "        if j == 1.0:\n",
    "            c += 1    \n",
    "    x = True\n",
    "    \n",
    "    for k in range(0, len(train_y_keys_full[i]) - 1, 2):\n",
    "        converted_data_train['image'].append(f'images/{i}.jpg')\n",
    "        converted_data_train['class_name'].append('Fingertip')\n",
    "        converted_data_train['x_min'].append(int(train_y_keys_full[i][k][0]))\n",
    "        converted_data_train['x_max'].append(int(train_y_keys_full[i][k][0]) + 1)\n",
    "        converted_data_train['y_min'].append(int(train_y_keys_full[i][k + 1][0]))\n",
    "        converted_data_train['y_max'].append(int(train_y_keys_full[i][k + 1][0]) + 1)      "
   ]
  },
  {
   "cell_type": "code",
   "execution_count": 6,
   "metadata": {},
   "outputs": [
    {
     "data": {
      "text/html": [
       "<div>\n",
       "<style scoped>\n",
       "    .dataframe tbody tr th:only-of-type {\n",
       "        vertical-align: middle;\n",
       "    }\n",
       "\n",
       "    .dataframe tbody tr th {\n",
       "        vertical-align: top;\n",
       "    }\n",
       "\n",
       "    .dataframe thead th {\n",
       "        text-align: right;\n",
       "    }\n",
       "</style>\n",
       "<table border=\"1\" class=\"dataframe\">\n",
       "  <thead>\n",
       "    <tr style=\"text-align: right;\">\n",
       "      <th></th>\n",
       "      <th>image</th>\n",
       "      <th>x_min</th>\n",
       "      <th>y_min</th>\n",
       "      <th>x_max</th>\n",
       "      <th>y_max</th>\n",
       "      <th>class_name</th>\n",
       "    </tr>\n",
       "  </thead>\n",
       "  <tbody>\n",
       "    <tr>\n",
       "      <th>0</th>\n",
       "      <td>images/0.jpg</td>\n",
       "      <td>0</td>\n",
       "      <td>0</td>\n",
       "      <td>1</td>\n",
       "      <td>1</td>\n",
       "      <td>Fingertip</td>\n",
       "    </tr>\n",
       "    <tr>\n",
       "      <th>1</th>\n",
       "      <td>images/0.jpg</td>\n",
       "      <td>2</td>\n",
       "      <td>48</td>\n",
       "      <td>3</td>\n",
       "      <td>49</td>\n",
       "      <td>Fingertip</td>\n",
       "    </tr>\n",
       "    <tr>\n",
       "      <th>2</th>\n",
       "      <td>images/0.jpg</td>\n",
       "      <td>19</td>\n",
       "      <td>18</td>\n",
       "      <td>20</td>\n",
       "      <td>19</td>\n",
       "      <td>Fingertip</td>\n",
       "    </tr>\n",
       "    <tr>\n",
       "      <th>3</th>\n",
       "      <td>images/0.jpg</td>\n",
       "      <td>43</td>\n",
       "      <td>5</td>\n",
       "      <td>44</td>\n",
       "      <td>6</td>\n",
       "      <td>Fingertip</td>\n",
       "    </tr>\n",
       "    <tr>\n",
       "      <th>4</th>\n",
       "      <td>images/0.jpg</td>\n",
       "      <td>70</td>\n",
       "      <td>11</td>\n",
       "      <td>71</td>\n",
       "      <td>12</td>\n",
       "      <td>Fingertip</td>\n",
       "    </tr>\n",
       "  </tbody>\n",
       "</table>\n",
       "</div>"
      ],
      "text/plain": [
       "          image  x_min  y_min  x_max  y_max class_name\n",
       "0  images/0.jpg      0      0      1      1  Fingertip\n",
       "1  images/0.jpg      2     48      3     49  Fingertip\n",
       "2  images/0.jpg     19     18     20     19  Fingertip\n",
       "3  images/0.jpg     43      5     44      6  Fingertip\n",
       "4  images/0.jpg     70     11     71     12  Fingertip"
      ]
     },
     "execution_count": 6,
     "metadata": {},
     "output_type": "execute_result"
    }
   ],
   "source": [
    "train_df = pd.DataFrame(converted_data_train)\n",
    "train_df.head()"
   ]
  },
  {
   "cell_type": "code",
   "execution_count": 7,
   "metadata": {},
   "outputs": [],
   "source": [
    "def show_image_with_boxes(df):\n",
    "  # pick a random image\n",
    "  filepath = df.sample()['image'].values[0]\n",
    "\n",
    "  # get all rows for this image\n",
    "  df2 = df[df['image'] == filepath]\n",
    "  im = np.array(Image.open(filepath))\n",
    "\n",
    "  # if there's a PNG it will have alpha channel\n",
    "  im = im[:,:,:3]\n",
    "\n",
    "  for idx, row in df2.iterrows():\n",
    "    box = [\n",
    "      row['x_min'],\n",
    "      row['y_min'],\n",
    "      row['x_max'],\n",
    "      row['y_max'],\n",
    "    ]\n",
    "    print(box)\n",
    "    draw_box(im, box, color=(255, 0, 0))\n",
    "\n",
    "  plt.axis('off')\n",
    "  plt.imshow(im)\n",
    "  plt.show()"
   ]
  },
  {
   "cell_type": "code",
   "execution_count": 8,
   "metadata": {},
   "outputs": [
    {
     "name": "stdout",
     "output_type": "stream",
     "text": [
      "[0, 0, 1, 1]\n",
      "[55, 10, 56, 11]\n",
      "[0, 0, 1, 1]\n",
      "[0, 0, 1, 1]\n",
      "[0, 0, 1, 1]\n"
     ]
    },
    {
     "data": {
      "image/png": "[encoded data removed]",
      "text/plain": [
       "<Figure size 432x288 with 1 Axes>"
      ]
     },
     "metadata": {
      "needs_background": "light"
     },
     "output_type": "display_data"
    }
   ],
   "source": [
    "show_image_with_boxes(train_df)"
   ]
  },
  {
   "cell_type": "code",
   "execution_count": 9,
   "metadata": {},
   "outputs": [],
   "source": [
    "train_df.to_csv('annotations.csv', index=False, header=None)"
   ]
  },
  {
   "cell_type": "code",
   "execution_count": 10,
   "metadata": {},
   "outputs": [],
   "source": [
    "classes = ['Fingertip']\n",
    "with open('classes.csv', 'w+') as f:\n",
    "  for i, class_name in enumerate(classes):\n",
    "    f.write(f'{class_name},{i}\\n')"
   ]
  },
  {
   "cell_type": "code",
   "execution_count": 11,
   "metadata": {},
   "outputs": [],
   "source": [
    "if not os.path.exists('snapshots'):\n",
    "  os.mkdir('snapshots')"
   ]
  },
  {
   "cell_type": "code",
   "execution_count": 13,
   "metadata": {},
   "outputs": [
    {
     "name": "stdout",
     "output_type": "stream",
     "text": [
      "Downloaded pretrained model to snapshots/_pretrained_model.h5\n"
     ]
    }
   ],
   "source": [
    "PRETRAINED_MODEL = 'snapshots/_pretrained_model.h5'\n",
    "\n",
    "URL_MODEL = 'https://github.com/fizyr/keras-retinanet/releases/download/0.5.1/resnet50_coco_best_v2.1.0.h5'\n",
    "urllib.request.urlretrieve(URL_MODEL, PRETRAINED_MODEL)\n",
    "\n",
    "print('Downloaded pretrained model to ' + PRETRAINED_MODEL)"
   ]
  },
  {
   "cell_type": "code",
   "execution_count": 15,
   "metadata": {},
   "outputs": [
    {
     "name": "stdout",
     "output_type": "stream",
     "text": [
      "Creating model, this may take a second...\n"
     ]
    },
    {
     "name": "stderr",
     "output_type": "stream",
     "text": [
      "2020-09-12 14:09:50.951767: W tensorflow/stream_executor/platform/default/dso_loader.cc:55] Could not load dynamic library 'cudart64_101.dll'; dlerror: cudart64_101.dll not found\n",
      "2020-09-12 14:09:50.952096: I tensorflow/stream_executor/cuda/cudart_stub.cc:29] Ignore above cudart dlerror if you do not have a GPU set up on your machine.\n",
      "2020-09-12 14:09:57.507271: W tensorflow/stream_executor/platform/default/dso_loader.cc:55] Could not load dynamic library 'nvcuda.dll'; dlerror: nvcuda.dll not found\n",
      "2020-09-12 14:09:57.507581: E tensorflow/stream_executor/cuda/cuda_driver.cc:351] failed call to cuInit: UNKNOWN ERROR (303)\n",
      "2020-09-12 14:09:57.511745: I tensorflow/stream_executor/cuda/cuda_diagnostics.cc:169] retrieving CUDA diagnostic information for host: Laptop\n",
      "2020-09-12 14:09:57.512069: I tensorflow/stream_executor/cuda/cuda_diagnostics.cc:176] hostname: Laptop\n",
      "2020-09-12 14:09:57.512484: I tensorflow/core/platform/cpu_feature_guard.cc:142] Your CPU supports instructions that this TensorFlow binary was not compiled to use: AVX2\n",
      "Using TensorFlow backend.\n",
      "Traceback (most recent call last):\n",
      "  File \"keras-retinanet/keras_retinanet/bin/train.py\", line 556, in <module>\n",
      "    main()\n",
      "  File \"keras-retinanet/keras_retinanet/bin/train.py\", line 516, in main\n",
      "    config=args.config\n",
      "  File \"keras-retinanet/keras_retinanet/bin/train.py\", line 117, in create_models\n",
      "    model          = model_with_weights(backbone_retinanet(num_classes, num_anchors=num_anchors, modifier=modifier, pyramid_levels=pyramid_levels), weights=weights, skip_mismatch=True)\n",
      "  File \"keras-retinanet/keras_retinanet/bin\\..\\..\\keras_retinanet\\models\\resnet.py\", line 38, in retinanet\n",
      "    return resnet_retinanet(*args, backbone=self.backbone, **kwargs)\n",
      "  File \"keras-retinanet/keras_retinanet/bin\\..\\..\\keras_retinanet\\models\\resnet.py\", line 120, in resnet_retinanet\n",
      "    return retinanet.retinanet(inputs=inputs, num_classes=num_classes, backbone_layers=backbone_layers, **kwargs)\n",
      "  File \"keras-retinanet/keras_retinanet/bin\\..\\..\\keras_retinanet\\models\\retinanet.py\", line 295, in retinanet\n",
      "    submodels = default_submodels(num_classes, num_anchors)\n",
      "  File \"keras-retinanet/keras_retinanet/bin\\..\\..\\keras_retinanet\\models\\retinanet.py\", line 198, in default_submodels\n",
      "    ('classification', default_classification_model(num_classes, num_anchors))\n",
      "  File \"keras-retinanet/keras_retinanet/bin\\..\\..\\keras_retinanet\\models\\retinanet.py\", line 71, in default_classification_model\n",
      "    )(outputs)\n",
      "  File \"C:\\Users\\Administrator\\.conda\\envs\\ftd\\lib\\site-packages\\keras\\backend\\tensorflow_backend.py\", line 75, in symbolic_fn_wrapper\n",
      "    return func(*args, **kwargs)\n",
      "  File \"C:\\Users\\Administrator\\.conda\\envs\\ftd\\lib\\site-packages\\keras\\engine\\base_layer.py\", line 463, in __call__\n",
      "    self.build(unpack_singleton(input_shapes))\n",
      "  File \"C:\\Users\\Administrator\\.conda\\envs\\ftd\\lib\\site-packages\\keras\\layers\\convolutional.py\", line 147, in build\n",
      "    constraint=self.bias_constraint)\n",
      "  File \"C:\\Users\\Administrator\\.conda\\envs\\ftd\\lib\\site-packages\\keras\\engine\\base_layer.py\", line 282, in add_weight\n",
      "    constraint=constraint)\n",
      "  File \"C:\\Users\\Administrator\\.conda\\envs\\ftd\\lib\\site-packages\\keras\\backend\\tensorflow_backend.py\", line 620, in variable\n",
      "    value, dtype=dtype, name=name, constraint=constraint)\n",
      "  File \"C:\\Users\\Administrator\\.conda\\envs\\ftd\\lib\\site-packages\\tensorflow_core\\python\\keras\\backend.py\", line 814, in variable\n",
      "    constraint=constraint)\n",
      "  File \"C:\\Users\\Administrator\\.conda\\envs\\ftd\\lib\\site-packages\\tensorflow_core\\python\\ops\\variables.py\", line 260, in __call__\n",
      "    return cls._variable_v2_call(*args, **kwargs)\n",
      "  File \"C:\\Users\\Administrator\\.conda\\envs\\ftd\\lib\\site-packages\\tensorflow_core\\python\\ops\\variables.py\", line 254, in _variable_v2_call\n",
      "    shape=shape)\n",
      "  File \"C:\\Users\\Administrator\\.conda\\envs\\ftd\\lib\\site-packages\\tensorflow_core\\python\\ops\\variables.py\", line 235, in <lambda>\n",
      "    previous_getter = lambda **kws: default_variable_creator_v2(None, **kws)\n",
      "  File \"C:\\Users\\Administrator\\.conda\\envs\\ftd\\lib\\site-packages\\tensorflow_core\\python\\ops\\variable_scope.py\", line 2645, in default_variable_creator_v2\n",
      "    shape=shape)\n",
      "  File \"C:\\Users\\Administrator\\.conda\\envs\\ftd\\lib\\site-packages\\tensorflow_core\\python\\ops\\variables.py\", line 262, in __call__\n",
      "    return super(VariableMetaclass, cls).__call__(*args, **kwargs)\n",
      "  File \"C:\\Users\\Administrator\\.conda\\envs\\ftd\\lib\\site-packages\\tensorflow_core\\python\\ops\\resource_variable_ops.py\", line 1411, in __init__\n",
      "    distribute_strategy=distribute_strategy)\n",
      "  File \"C:\\Users\\Administrator\\.conda\\envs\\ftd\\lib\\site-packages\\tensorflow_core\\python\\ops\\resource_variable_ops.py\", line 1494, in _init_from_args\n",
      "    raise ValueError(\"Tensor-typed variable initializers must either be \"\n",
      "ValueError: Tensor-typed variable initializers must either be wrapped in an init_scope or callable (e.g., `tf.Variable(lambda : tf.truncated_normal([10, 40]))`) when building functions. Please file a feature request if this restriction inconveniences you.\n"
     ]
    }
   ],
   "source": [
    "!python keras-retinanet/keras_retinanet/bin/train.py --freeze-backbone \\\n",
    "  --random-transform \\\n",
    "  --weights {PRETRAINED_MODEL} \\\n",
    "  --batch-size 8 \\\n",
    "  --steps 500 \\\n",
    "  --epochs 15 \\\n",
    "  csv annotations.csv classes.csv"
   ]
  },
  {
   "cell_type": "code",
   "execution_count": null,
   "metadata": {},
   "outputs": [],
   "source": []
  }
 ],
 "metadata": {
  "kernelspec": {
   "display_name": "Python 3",
   "language": "python",
   "name": "python3"
  },
  "language_info": {
   "codemirror_mode": {
    "name": "ipython",
    "version": 3
   },
   "file_extension": ".py",
   "mimetype": "text/x-python",
   "name": "python",
   "nbconvert_exporter": "python",
   "pygments_lexer": "ipython3",
   "version": "3.6.9"
  }
 },
 "nbformat": 4,
 "nbformat_minor": 2
}
